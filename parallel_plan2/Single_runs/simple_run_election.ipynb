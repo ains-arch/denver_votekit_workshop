{
 "cells": [
  {
   "cell_type": "markdown",
   "id": "e902c13b",
   "metadata": {
    "colab_type": "text",
    "id": "view-in-github"
   },
   "source": [
    "<a href=\"https://colab.research.google.com/github/mggg/Training_Materials/blob/main/notebooks/technical/Tech_3_batching/Single_runs/simple_run_election.ipynb\" target=\"_parent\"><img src=\"https://colab.research.google.com/assets/colab-badge.svg\" alt=\"Open In Colab\"/></a>"
   ]
  },
  {
   "cell_type": "code",
   "execution_count": null,
   "id": "16b183f1",
   "metadata": {
    "id": "16b183f1"
   },
   "outputs": [],
   "source": [
    "!pip install votekit"
   ]
  },
  {
   "cell_type": "markdown",
   "id": "e95f8a51",
   "metadata": {
    "id": "e95f8a51"
   },
   "source": [
    "# Running an Election in VoteKit\n",
    "\n",
    "As it turns out, once you know how to generate a `PreferenceProfile` object running an election\n",
    "is pretty straightforward. Whenever you call the constructor for an `Election` object\n",
    "the entire election will actually be run, and you will be able to access the results\n",
    "instantly."
   ]
  },
  {
   "cell_type": "code",
   "execution_count": 4,
   "id": "1e9fdde2",
   "metadata": {
    "id": "1e9fdde2"
   },
   "outputs": [],
   "source": [
    "from gerrychain import Graph\n",
    "import jsonlines as jl\n",
    "import votekit.elections as elec\n",
    "from votekit import PreferenceProfile\n",
    "import votekit.ballot_generator as bg"
   ]
  },
  {
   "cell_type": "code",
   "execution_count": 21,
   "id": "f11ea3b6",
   "metadata": {
    "id": "f11ea3b6"
   },
   "outputs": [],
   "source": [
    "bloc_voter_prop = {\n",
    "    \"W\": 0.2,\n",
    "    \"C\": 0.8\n",
    "}\n",
    "cohesion_parameters = {\n",
    "    \"W\": {\n",
    "        \"W\": 0.7,\n",
    "        \"C\": 0.3\n",
    "    },\n",
    "    \"C\": {\n",
    "        \"W\": 0.7,\n",
    "        \"C\": 0.3\n",
    "    }\n",
    "}\n",
    "alphas = {\n",
    "    \"W\": {\n",
    "        \"W\": 1,\n",
    "        \"C\": 1\n",
    "    },\n",
    "    \"C\": {\n",
    "        \"W\": 1,\n",
    "        \"C\": 1\n",
    "    }\n",
    "}\n",
    "slate_to_candidates = {\n",
    "    \"W\": [\n",
    "        \"Whiteman\",\n",
    "        \"Whisky\",\n",
    "        \"Whence\"\n",
    "    ],\n",
    "    \"C\": [\n",
    "        \"Candy\",\n",
    "        \"Claire\"\n",
    "    ]\n",
    "}"
   ]
  },
  {
   "cell_type": "code",
   "execution_count": 22,
   "id": "867de349",
   "metadata": {
    "id": "867de349"
   },
   "outputs": [],
   "source": [
    "profile = bg.slate_PlackettLuce.from_params(\n",
    "    bloc_voter_prop=bloc_voter_prop,\n",
    "    cohesion_parameters=cohesion_parameters,\n",
    "    alphas=alphas,\n",
    "    slate_to_candidates=slate_to_candidates\n",
    ").generate_profile(\n",
    "    number_of_ballots=1000\n",
    ")"
   ]
  },
  {
   "cell_type": "code",
   "execution_count": 39,
   "id": "9b82c64f",
   "metadata": {
    "id": "9b82c64f"
   },
   "outputs": [],
   "source": [
    "election = elec.STV(profile, m=2)"
   ]
  },
  {
   "cell_type": "code",
   "execution_count": 42,
   "id": "405e56bc-c1d1-4d2d-aaa6-f10b75479c69",
   "metadata": {},
   "outputs": [
    {
     "data": {
      "text/plain": [
       "\u001b[31mInit signature:\u001b[39m\n",
       "elec.STV(\n",
       "    profile: votekit.pref_profile.pref_profile.PreferenceProfile,\n",
       "    m: int = \u001b[32m1\u001b[39m,\n",
       "    transfer: Callable[[str, float, Union[tuple[votekit.ballot.Ballot], list[votekit.ballot.Ballot]], int], tuple[votekit.ballot.Ballot, ...]] = <function fractional_transfer at \u001b[32m0x150028360\u001b[39m>,\n",
       "    quota: str = \u001b[33m'droop'\u001b[39m,\n",
       "    simultaneous: bool = \u001b[38;5;28;01mTrue\u001b[39;00m,\n",
       "    tiebreak: Optional[str] = \u001b[38;5;28;01mNone\u001b[39;00m,\n",
       ")\n",
       "\u001b[31mDocstring:\u001b[39m     \n",
       "STV elections. All ballots must have no ties.\n",
       "\n",
       "Args:\n",
       "    profile (PreferenceProfile):   PreferenceProfile to run election on.\n",
       "    m (int, optional): Number of seats to be elected. Defaults to 1.\n",
       "    transfer (Callable[[str, float, Union[tuple[Ballot], list[Ballot]], int], tuple[Ballot,...]], optional):\n",
       "    Transfer method. Defaults to fractional transfer.\n",
       "        Function signature is elected candidate, their number of first-place votes, the list of\n",
       "        ballots with them ranked first, and the threshold value. Returns the list of ballots\n",
       "        after transfer.\n",
       "    quota (str, optional): Formula to calculate quota. Accepts \"droop\" or \"hare\".\n",
       "        Defaults to \"droop\".\n",
       "    simultaneous (bool, optional): True if all candidates who cross threshold in a round are\n",
       "        elected simultaneously, False if only the candidate with highest first-place votes\n",
       "        who crosses the threshold is elected in a round. Defaults to True.\n",
       "    tiebreak (str, optional): Method to be used if a tiebreak is needed. Accepts\n",
       "        'borda' and 'random'. Defaults to None, in which case a ValueError is raised if\n",
       "        a tiebreak is needed.\n",
       "\u001b[31mFile:\u001b[39m           ~/Documents/VoteKit/venv/lib/python3.13/site-packages/votekit/elections/election_types/ranking/stv.py\n",
       "\u001b[31mType:\u001b[39m           ABCMeta\n",
       "\u001b[31mSubclasses:\u001b[39m     IRV, SequentialRCV"
      ]
     },
     "metadata": {},
     "output_type": "display_data"
    }
   ],
   "source": [
    "?elec.STV"
   ]
  },
  {
   "cell_type": "markdown",
   "id": "e886610f",
   "metadata": {
    "id": "e886610f"
   },
   "source": [
    "In any multi-round election, you can then get all of the information about\n",
    "how the election progressed by accessing the `election_state` attribute of the\n",
    "`Election` object."
   ]
  },
  {
   "cell_type": "code",
   "execution_count": 40,
   "id": "2d6acf4d",
   "metadata": {
    "id": "2d6acf4d"
   },
   "outputs": [
    {
     "data": {
      "text/plain": [
       "              Status  Round\n",
       "Whisky       Elected      1\n",
       "Whence       Elected      4\n",
       "Candy      Remaining      4\n",
       "Whiteman  Eliminated      3\n",
       "Claire    Eliminated      2"
      ]
     },
     "execution_count": 40,
     "metadata": {},
     "output_type": "execute_result"
    }
   ],
   "source": [
    "election"
   ]
  },
  {
   "cell_type": "code",
   "execution_count": 25,
   "id": "f9f0e93f",
   "metadata": {
    "id": "f9f0e93f"
   },
   "outputs": [
    {
     "data": {
      "text/plain": [
       "(frozenset({'Whisky'}), frozenset({'Claire'}), frozenset({'Whence'}))"
      ]
     },
     "execution_count": 25,
     "metadata": {},
     "output_type": "execute_result"
    }
   ],
   "source": [
    "election.get_elected()"
   ]
  },
  {
   "cell_type": "code",
   "execution_count": 26,
   "id": "430b7e4f",
   "metadata": {
    "id": "430b7e4f"
   },
   "outputs": [
    {
     "name": "stdout",
     "output_type": "stream",
     "text": [
      "\n",
      "ElectionState(round_number=0, remaining=(frozenset({'Whisky'}), frozenset({'Claire'}), frozenset({'Whence'}), frozenset({'Whiteman'}), frozenset({'Candy'})), elected=(frozenset(),), eliminated=(frozenset(),), tiebreaks={}, scores={'Whisky': np.float64(393.0), 'Whiteman': np.float64(157.0), 'Whence': np.float64(163.0), 'Candy': np.float64(66.0), 'Claire': np.float64(221.0)})\n",
      "(frozenset(),)\n",
      "(frozenset({'Whisky'}), frozenset({'Claire'}), frozenset({'Whence'}), frozenset({'Whiteman'}), frozenset({'Candy'}))\n",
      "{'Whisky': np.float64(393.0), 'Whiteman': np.float64(157.0), 'Whence': np.float64(163.0), 'Candy': np.float64(66.0), 'Claire': np.float64(221.0)}\n",
      "\n",
      "ElectionState(round_number=1, remaining=(frozenset({'Claire'}), frozenset({'Whence'}), frozenset({'Whiteman'}), frozenset({'Candy'})), elected=(frozenset({'Whisky'}),), eliminated=(frozenset(),), tiebreaks={}, scores={'Whiteman': np.float64(204.6946564885496), 'Whence': np.float64(220.08905852417303), 'Candy': np.float64(73.94910941475827), 'Claire': np.float64(250.26717557251908)})\n",
      "(frozenset({'Whisky'}),)\n",
      "(frozenset({'Claire'}), frozenset({'Whence'}), frozenset({'Whiteman'}), frozenset({'Candy'}))\n",
      "{'Whiteman': np.float64(204.6946564885496), 'Whence': np.float64(220.08905852417303), 'Candy': np.float64(73.94910941475827), 'Claire': np.float64(250.26717557251908)}\n",
      "\n",
      "ElectionState(round_number=2, remaining=(frozenset({'Claire'}), frozenset({'Whence'}), frozenset({'Whiteman'})), elected=(frozenset(),), eliminated=(frozenset({'Candy'}),), tiebreaks={}, scores={'Whence': np.float64(238.1730279898219), 'Claire': np.float64(282.1577608142494), 'Whiteman': np.float64(228.66921119592877)})\n",
      "(frozenset(),)\n",
      "(frozenset({'Claire'}), frozenset({'Whence'}), frozenset({'Whiteman'}))\n",
      "{'Whence': np.float64(238.1730279898219), 'Claire': np.float64(282.1577608142494), 'Whiteman': np.float64(228.66921119592877)}\n",
      "\n",
      "ElectionState(round_number=3, remaining=(frozenset({'Whence'}), frozenset({'Whiteman'})), elected=(frozenset({'Claire'}),), eliminated=(frozenset(),), tiebreaks={}, scores={'Whiteman': np.float64(241.68186415268423), 'Whence': np.float64(256.3181358473158)})\n",
      "(frozenset({'Claire'}),)\n",
      "(frozenset({'Whence'}), frozenset({'Whiteman'}))\n",
      "{'Whiteman': np.float64(241.68186415268423), 'Whence': np.float64(256.3181358473158)}\n"
     ]
    }
   ],
   "source": [
    "for i in range(4):\n",
    "    print()\n",
    "    print(election.election_states[i])\n",
    "    print(election.election_states[i].elected)\n",
    "    print(election.election_states[i].remaining)\n",
    "    print(election.election_states[i].scores)"
   ]
  },
  {
   "cell_type": "markdown",
   "id": "dc1feb86",
   "metadata": {
    "id": "dc1feb86"
   },
   "source": [
    "So, all we now need to do is figure out a good way of generating a lot of samples\n",
    "from a lot of different settings. Gathering a lot of samples is easy: just\n",
    "run the ballot generator and the election a bunch of times and then save the results."
   ]
  },
  {
   "cell_type": "code",
   "execution_count": 27,
   "id": "77b51ba0",
   "metadata": {
    "id": "77b51ba0"
   },
   "outputs": [
    {
     "data": {
      "application/vnd.jupyter.widget-view+json": {
       "model_id": "6e3f1e1022924b8299de146229b94d52",
       "version_major": 2,
       "version_minor": 0
      },
      "text/plain": [
       "  0%|          | 0/30 [00:00<?, ?it/s]"
      ]
     },
     "metadata": {},
     "output_type": "display_data"
    }
   ],
   "source": [
    "from tqdm.notebook import tqdm\n",
    "with jl.open('election_results.jsonl', 'w') as writer:\n",
    "    # for _ in range(10):\n",
    "    for _ in tqdm(range(30)):\n",
    "        profile = bg.slate_PlackettLuce.from_params(\n",
    "            bloc_voter_prop=bloc_voter_prop,\n",
    "            cohesion_parameters=cohesion_parameters,\n",
    "            alphas=alphas,\n",
    "            slate_to_candidates=slate_to_candidates\n",
    "        ).generate_profile(\n",
    "            number_of_ballots=10000\n",
    "        )\n",
    "        election = elec.STV(profile, m=3)\n",
    "\n",
    "        writer.write({\n",
    "            \"winners\": [winner for winner_set in election.get_elected() for winner in winner_set],\n",
    "        })"
   ]
  },
  {
   "cell_type": "markdown",
   "id": "b0bf3f40",
   "metadata": {
    "id": "b0bf3f40"
   },
   "source": [
    "So the question then becomes, how do we make better predictions?\n",
    "Well, the first thing that we need to do is gather some information about\n",
    "the location in question. We'll look at our dual graph file in this\n",
    "notebook, but commonly, you'll need something like census data to agument\n",
    "your work."
   ]
  },
  {
   "cell_type": "code",
   "execution_count": 28,
   "id": "c2ff22d2",
   "metadata": {
    "id": "c2ff22d2"
   },
   "outputs": [],
   "source": [
    "graph = Graph.from_json(\"../../../../data/gerrymandria.json\")"
   ]
  },
  {
   "cell_type": "code",
   "execution_count": 29,
   "id": "272d4e1d",
   "metadata": {
    "id": "272d4e1d"
   },
   "outputs": [
    {
     "data": {
      "text/plain": [
       "{'TOTPOP': 1,\n",
       " 'x': 0,\n",
       " 'y': 0,\n",
       " 'county': '1',\n",
       " 'district': '1',\n",
       " 'precinct': 0,\n",
       " 'muni': '1',\n",
       " 'boundary_node': True,\n",
       " 'boundary_perim': 1,\n",
       " 'water_dist': '2',\n",
       " 'WVAP': 0.8999532942809672,\n",
       " 'POCVAP': 0.10004670571903285,\n",
       " 'dem_percent': 0.4409831573065591,\n",
       " 'rep_percent': 0.5590168426934409}"
      ]
     },
     "execution_count": 29,
     "metadata": {},
     "output_type": "execute_result"
    }
   ],
   "source": [
    "graph.nodes[0]"
   ]
  },
  {
   "cell_type": "markdown",
   "id": "b3bf9e9c",
   "metadata": {
    "id": "b3bf9e9c"
   },
   "source": [
    "A good starting point for us here is to just get an estimate on the\n",
    "state-wide POCVAP and WVAP values.\n",
    "\n",
    "WARNING!!! You should not do this in general! Talk to the people in the location you are trying to model to get better numbers! This is an (admittedly) ad-hoc way of giving us a starting point. We also anticipate that the turnout proportions are going to be one of the things that we vary as we create models for a specific place."
   ]
  },
  {
   "cell_type": "code",
   "execution_count": 30,
   "id": "d7f87102",
   "metadata": {
    "id": "d7f87102"
   },
   "outputs": [
    {
     "name": "stdout",
     "output_type": "stream",
     "text": [
      "Total WVAP: 47.91742737423775\n",
      "\tTotal WCAP %: 74.87\n",
      "Total POCVAP: 16.08257262576225\n",
      "\tTotal POCAP %: 25.13\n"
     ]
    }
   ],
   "source": [
    "wvap_total = sum(d[\"WVAP\"] for _, d in graph.nodes(data=True))\n",
    "pocvap_total = sum(d[\"POCVAP\"] for _, d in graph.nodes(data=True))\n",
    "total_pop = sum(d[\"TOTPOP\"] for _, d in graph.nodes(data=True))\n",
    "print(f\"Total WVAP: {wvap_total}\")\n",
    "print(f\"\\tTotal WCAP %: {wvap_total / total_pop * 100:.2f}\")\n",
    "print(f\"Total POCVAP: {pocvap_total}\")\n",
    "print(f\"\\tTotal POCAP %: {pocvap_total / total_pop * 100:.2f}\")"
   ]
  },
  {
   "cell_type": "markdown",
   "id": "e4ed02fa",
   "metadata": {
    "id": "e4ed02fa"
   },
   "source": [
    "These would be good starting points for some of the parameters for our\n",
    "ballot generator, namely the `bloc_voter_prop` parameter."
   ]
  },
  {
   "cell_type": "code",
   "execution_count": 31,
   "id": "39f66c30",
   "metadata": {
    "id": "39f66c30"
   },
   "outputs": [],
   "source": [
    "bloc_voter_prop = {\n",
    "    \"W\": 0.75,\n",
    "    \"C\": 0.25\n",
    "}\n",
    "cohesion_parameters = {\n",
    "    \"W\": {\n",
    "        \"W\": 0.7,\n",
    "        \"C\": 0.3\n",
    "    },\n",
    "    \"C\": {\n",
    "        \"W\": 0.7,\n",
    "        \"C\": 0.3\n",
    "    }\n",
    "}\n",
    "alphas = {\n",
    "    \"W\": {\n",
    "        \"W\": 1,\n",
    "        \"C\": 1\n",
    "    },\n",
    "    \"C\": {\n",
    "        \"W\": 1,\n",
    "        \"C\": 1\n",
    "    }\n",
    "}\n",
    "slate_to_candidates = {\n",
    "    \"W\": [\n",
    "        \"Whiteman\",\n",
    "        \"Whisky\",\n",
    "        \"Whence\"\n",
    "    ],\n",
    "    \"C\": [\n",
    "        \"Candy\",\n",
    "        \"Claire\"\n",
    "    ]\n",
    "}"
   ]
  },
  {
   "cell_type": "code",
   "execution_count": 32,
   "id": "b9a730e6",
   "metadata": {
    "id": "b9a730e6"
   },
   "outputs": [],
   "source": [
    "ballot_generator_kwargs = dict(\n",
    "    bloc_voter_prop=bloc_voter_prop,\n",
    "    cohesion_parameters=cohesion_parameters,\n",
    "    alphas=alphas,\n",
    "    slate_to_candidates=slate_to_candidates\n",
    ")"
   ]
  },
  {
   "cell_type": "code",
   "execution_count": 33,
   "id": "4809fb1b",
   "metadata": {
    "id": "4809fb1b"
   },
   "outputs": [
    {
     "data": {
      "application/vnd.jupyter.widget-view+json": {
       "model_id": "7e2dc75c5d9447a0879cc19158bad574",
       "version_major": 2,
       "version_minor": 0
      },
      "text/plain": [
       "  0%|          | 0/30 [00:00<?, ?it/s]"
      ]
     },
     "metadata": {},
     "output_type": "display_data"
    }
   ],
   "source": [
    "with jl.open('election_results2.jsonl', 'w') as writer:\n",
    "    # for _ in range(10):\n",
    "    for _ in tqdm(range(30)):\n",
    "        profile = bg.slate_PlackettLuce.from_params(\n",
    "            **ballot_generator_kwargs\n",
    "        ).generate_profile(\n",
    "            number_of_ballots=10000\n",
    "        )\n",
    "        election = elec.STV(profile, m=3)\n",
    "\n",
    "        writer.write({\n",
    "            \"winners\": [winner for winner_set in election.get_elected() for winner in winner_set],\n",
    "        })"
   ]
  },
  {
   "cell_type": "markdown",
   "id": "0c3318ae",
   "metadata": {
    "id": "0c3318ae"
   },
   "source": [
    "Okay, this is a great starting point, but putting together a bunch of `for`\n",
    "loops in a single notebook is difficult to read, audit, and scale.\n",
    "So we are going to need a better way to do and organize this if we want\n",
    "to be able to keep track of all of the information we are generating."
   ]
  }
 ],
 "metadata": {
  "colab": {
   "include_colab_link": true,
   "provenance": []
  },
  "kernelspec": {
   "display_name": "Python 3 (ipykernel)",
   "language": "python",
   "name": "python3"
  },
  "language_info": {
   "codemirror_mode": {
    "name": "ipython",
    "version": 3
   },
   "file_extension": ".py",
   "mimetype": "text/x-python",
   "name": "python",
   "nbconvert_exporter": "python",
   "pygments_lexer": "ipython3",
   "version": "3.13.0"
  }
 },
 "nbformat": 4,
 "nbformat_minor": 5
}
