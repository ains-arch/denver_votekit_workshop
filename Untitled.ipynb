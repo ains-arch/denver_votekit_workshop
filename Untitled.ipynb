{
 "cells": [
  {
   "cell_type": "code",
   "execution_count": 2,
   "id": "36717249-f6d8-4d6e-8c84-986f50f23915",
   "metadata": {},
   "outputs": [],
   "source": [
    "import geopandas as gpd"
   ]
  },
  {
   "cell_type": "code",
   "execution_count": 5,
   "id": "53513697-0cdb-4690-9a67-3773024aefb5",
   "metadata": {},
   "outputs": [
    {
     "name": "stdout",
     "output_type": "stream",
     "text": [
      "Aggregated category counts across all files:\n",
      "W: 4018\n",
      "C: 1276\n"
     ]
    }
   ],
   "source": [
    "import json\n",
    "from collections import Counter\n",
    "import glob\n",
    "import os\n",
    "\n",
    "# Folder containing your JSONL files\n",
    "folder_path = '/Users/bryanhuang/Documents/DenverVoteKit_practice/parallel/Parallel_runs/results'  # <-- Change this to your folder\n",
    "\n",
    "# Find all .jsonl files in the folder\n",
    "jsonl_files = glob.glob(os.path.join(folder_path, '*.jsonl'))\n",
    "\n",
    "# Counters for W and C\n",
    "category_counts = Counter({'W': 0, 'C': 0})\n",
    "\n",
    "for jsonl_file in jsonl_files:\n",
    "    with open(jsonl_file, 'r') as f:\n",
    "        for line in f:\n",
    "            data = json.loads(line)\n",
    "            for winner in data.get('winners', []):\n",
    "                if winner.startswith('W'):\n",
    "                    category_counts['W'] += 1\n",
    "                elif winner.startswith('C'):\n",
    "                    category_counts['C'] += 1\n",
    "\n",
    "print(\"Aggregated category counts across all files:\")\n",
    "print(f\"W: {category_counts['W']}\")\n",
    "print(f\"C: {category_counts['C']}\")"
   ]
  },
  {
   "cell_type": "code",
   "execution_count": 18,
   "id": "9c8eda7f-f99f-413e-8104-2c9bec21ad5b",
   "metadata": {},
   "outputs": [],
   "source": [
    "import json\n",
    "import os\n",
    "import glob\n",
    "from collections import defaultdict\n",
    "\n",
    "def categorize_jsonl_folder(folder_path, file_pattern=\"*.jsonl\"):\n",
    "    \"\"\"\n",
    "    Process all JSONL files in a folder and categorize winners based on first letter.\n",
    "    \n",
    "    Args:\n",
    "        folder_path: Path to folder containing JSONL files\n",
    "        file_pattern: Pattern to match files (default: \"*.jsonl\")\n",
    "    \n",
    "    Returns:\n",
    "        dict: Categories with combined results from all files\n",
    "    \"\"\"\n",
    "    categories = {\n",
    "        'both_W': [],\n",
    "        'both_C': [],\n",
    "        'mixed': []\n",
    "    }\n",
    "    \n",
    "    # Find all JSONL files in the folder\n",
    "    search_pattern = os.path.join(folder_path, file_pattern)\n",
    "    jsonl_files = glob.glob(search_pattern)\n",
    "    \n",
    "    if not jsonl_files:\n",
    "        return categories\n",
    "    \n",
    "    # Process each file\n",
    "    for file_path in jsonl_files:\n",
    "        try:\n",
    "            with open(file_path, 'r') as file:\n",
    "                for line in file:\n",
    "                    line = line.strip()\n",
    "                    if not line:\n",
    "                        continue\n",
    "                        \n",
    "                    try:\n",
    "                        data = json.loads(line)\n",
    "                        winners = data.get('winners', [])\n",
    "                        \n",
    "                        if not winners:\n",
    "                            continue\n",
    "                        \n",
    "                        # Get first letters of all winners\n",
    "                        first_letters = set(winner[0] for winner in winners if winner)\n",
    "                        \n",
    "                        # Categorize based on first letters\n",
    "                        if len(first_letters) == 1:\n",
    "                            if 'W' in first_letters:\n",
    "                                categories['both_W'].append(data)\n",
    "                            elif 'C' in first_letters:\n",
    "                                categories['both_C'].append(data)\n",
    "                            else:\n",
    "                                categories['mixed'].append(data)\n",
    "                        else:\n",
    "                            categories['mixed'].append(data)\n",
    "                            \n",
    "                    except json.JSONDecodeError:\n",
    "                        continue\n",
    "                        \n",
    "        except (FileNotFoundError, Exception):\n",
    "            continue\n",
    "    \n",
    "    # Print final results\n",
    "    print(f\"Both W: {len(categories['both_W'])}\")\n",
    "    print(f\"Both C: {len(categories['both_C'])}\")\n",
    "    print(f\"Mixed: {len(categories['mixed'])}\")\n",
    "    print(f\"Total: {sum(len(items) for items in categories.values())}\")\n",
    "    \n",
    "    #return categories\n",
    "\n",
    "# Example usage\n",
    "if __name__ == \"__main__\":\n",
    "    # Change this to your folder path\n",
    "    folder_path = \"path/to/your/jsonl/folder\"\n",
    "    \n",
    "    # Process folder\n",
    "    results = categorize_jsonl_folder(folder_path)\n",
    "    \n",
    "    # Optional: specify custom file pattern\n",
    "    # results = categorize_jsonl_folder(folder_path, \"results_*.jsonl\")"
   ]
  },
  {
   "cell_type": "code",
   "execution_count": 19,
   "id": "f90051ee-26af-4ce2-8599-98827f47b4da",
   "metadata": {
    "scrolled": true
   },
   "outputs": [
    {
     "name": "stdout",
     "output_type": "stream",
     "text": [
      "Both W: 1106\n",
      "Both C: 104\n",
      "Mixed: 905\n",
      "Total: 2115\n"
     ]
    }
   ],
   "source": [
    "categorize_jsonl_folder(\"/Users/bryanhuang/Documents/DenverVoteKit_practice/parallel/Parallel_runs/practice results\")\n"
   ]
  },
  {
   "cell_type": "code",
   "execution_count": 20,
   "id": "ab99a841-5ec9-4982-8fda-adbbe890848e",
   "metadata": {},
   "outputs": [
    {
     "name": "stdout",
     "output_type": "stream",
     "text": [
      "Both W: 144\n",
      "Both C: 0\n",
      "Mixed: 156\n",
      "Total: 300\n"
     ]
    }
   ],
   "source": [
    "categorize_jsonl_folder(\"/Users/bryanhuang/Documents/DenverVoteKit_practice/parallel/Parallel_runs/practice results/borda\")\n"
   ]
  },
  {
   "cell_type": "code",
   "execution_count": 21,
   "id": "b36f5c3c-eeeb-44ac-a4e4-d40a628d2a18",
   "metadata": {},
   "outputs": [
    {
     "name": "stdout",
     "output_type": "stream",
     "text": [
      "Both W: 466\n",
      "Both C: 47\n",
      "Mixed: 387\n",
      "Total: 900\n"
     ]
    }
   ],
   "source": [
    "categorize_jsonl_folder(\"/Users/bryanhuang/Documents/DenverVoteKit_practice/parallel/Parallel_runs/practice results/plurality\")\n"
   ]
  },
  {
   "cell_type": "code",
   "execution_count": 22,
   "id": "7d822673-e2fe-4c58-a978-7a951a747e74",
   "metadata": {},
   "outputs": [
    {
     "name": "stdout",
     "output_type": "stream",
     "text": [
      "Both W: 496\n",
      "Both C: 57\n",
      "Mixed: 362\n",
      "Total: 915\n"
     ]
    }
   ],
   "source": [
    "categorize_jsonl_folder(\"/Users/bryanhuang/Documents/DenverVoteKit_practice/parallel/Parallel_runs/practice results/stv\")\n"
   ]
  },
  {
   "cell_type": "code",
   "execution_count": 29,
   "id": "2cb73fea-d48d-48d5-87af-762a851b8dcd",
   "metadata": {},
   "outputs": [],
   "source": [
    "import json\n",
    "import os\n",
    "import glob\n",
    "from collections import defaultdict\n",
    "\n",
    "def categorize_jsonl(path, file_pattern=\"*.jsonl\"):\n",
    "    \"\"\"\n",
    "    Process JSONL file(s) and categorize winners based on first letter.\n",
    "    \n",
    "    Args:\n",
    "        path: Path to a single JSONL file or folder containing JSONL files\n",
    "        file_pattern: Pattern to match files if path is a folder (default: \"*.jsonl\")\n",
    "    \n",
    "    Returns:\n",
    "        dict: Categories with combined results from all files\n",
    "    \"\"\"\n",
    "    categories = {\n",
    "        'both_W': [],\n",
    "        'both_C': [],\n",
    "        'mixed': []\n",
    "    }\n",
    "    \n",
    "    # Determine if path is a file or folder\n",
    "    if os.path.isfile(path):\n",
    "        jsonl_files = [path]\n",
    "    elif os.path.isdir(path):\n",
    "        search_pattern = os.path.join(path, file_pattern)\n",
    "        jsonl_files = glob.glob(search_pattern)\n",
    "    else:\n",
    "        return categories\n",
    "    \n",
    "    if not jsonl_files:\n",
    "        return categories\n",
    "    \n",
    "    # Process each file\n",
    "    for file_path in jsonl_files:\n",
    "        try:\n",
    "            with open(file_path, 'r') as file:\n",
    "                for line in file:\n",
    "                    line = line.strip()\n",
    "                    if not line:\n",
    "                        continue\n",
    "                        \n",
    "                    try:\n",
    "                        data = json.loads(line)\n",
    "                        winners = data.get('winners', [])\n",
    "                        \n",
    "                        if not winners:\n",
    "                            continue\n",
    "                        \n",
    "                        # Get first letters of all winners\n",
    "                        first_letters = set(winner[0] for winner in winners if winner)\n",
    "                        \n",
    "                        # Categorize based on first letters\n",
    "                        if len(first_letters) == 1:\n",
    "                            if 'W' in first_letters:\n",
    "                                categories['both_W'].append(data)\n",
    "                            elif 'C' in first_letters:\n",
    "                                categories['both_C'].append(data)\n",
    "                            else:\n",
    "                                categories['mixed'].append(data)\n",
    "                        else:\n",
    "                            categories['mixed'].append(data)\n",
    "                            \n",
    "                    except json.JSONDecodeError:\n",
    "                        continue\n",
    "                        \n",
    "        except (FileNotFoundError, Exception):\n",
    "            continue\n",
    "    \n",
    "    # Print final results\n",
    "    print(f\"Both W: {len(categories['both_W'])}\")\n",
    "    print(f\"Both C: {len(categories['both_C'])}\")\n",
    "    print(f\"Mixed: {len(categories['mixed'])}\")\n",
    "    print(f\"Total: {sum(len(items) for items in categories.values())}\")\n",
    "    \n",
    "    #return categories\n",
    "\n",
    "# Example usage\n",
    "if __name__ == \"__main__\":\n",
    "    # Works with both files and folders\n",
    "    \n",
    "    # Single file\n",
    "    # results = categorize_jsonl(\"path/to/your/file.jsonl\")\n",
    "    \n",
    "    # Folder with all JSONL files\n",
    "    # results = categorize_jsonl(\"path/to/your/folder\")\n",
    "    \n",
    "    # Folder with custom pattern\n",
    "    # results = categorize_jsonl(\"path/to/your/folder\", \"results_*.jsonl\")\n",
    "    \n",
    "    path = \"path/to/your/jsonl/folder\"  # Change this to your path\n",
    "    results = categorize_jsonl(path)"
   ]
  },
  {
   "cell_type": "code",
   "execution_count": 30,
   "id": "f6fbb628-1bb0-4aaa-85f5-f53ad298fe90",
   "metadata": {},
   "outputs": [
    {
     "name": "stdout",
     "output_type": "stream",
     "text": [
      "Both W: 5\n",
      "Both C: 1\n",
      "Mixed: 24\n",
      "Total: 30\n"
     ]
    }
   ],
   "source": [
    "categorize_jsonl(\"/Users/bryanhuang/Documents/DenverVoteKit_practice/parallel/Parallel_runs/results/plurality/\")\n",
    "print(\"plural\")"
   ]
  },
  {
   "cell_type": "code",
   "execution_count": 31,
   "id": "b7353d48-3911-4bc9-8346-63d8d426f3e5",
   "metadata": {},
   "outputs": [
    {
     "name": "stdout",
     "output_type": "stream",
     "text": [
      "Both W: 13\n",
      "Both C: 1\n",
      "Mixed: 16\n",
      "Total: 30\n"
     ]
    }
   ],
   "source": [
    "categorize_jsonl(\"/Users/bryanhuang/Documents/DenverVoteKit_practice/parallel/Parallel_runs/results/stv/\")\n"
   ]
  },
  {
   "cell_type": "code",
   "execution_count": null,
   "id": "bf34a5e8-84ee-46ef-bac2-3d41f1c9c88e",
   "metadata": {},
   "outputs": [],
   "source": []
  },
  {
   "cell_type": "code",
   "execution_count": 38,
   "id": "a321e8c4-dc7d-4322-ae48-0201be9b999b",
   "metadata": {},
   "outputs": [],
   "source": [
    "import json\n",
    "import os\n",
    "import glob\n",
    "from collections import defaultdict\n",
    "\n",
    "def count_winners_by_letter(path, file_pattern=\"*.jsonl\"):\n",
    "    \"\"\"\n",
    "    Process JSONL file(s) and count winners grouped by first letter.\n",
    "    \n",
    "    Args:\n",
    "        path: Path to a single JSONL file or folder containing JSONL files\n",
    "        file_pattern: Pattern to match files if path is a folder (default: \"*.jsonl\")\n",
    "    \n",
    "    Returns:\n",
    "        dict: Dictionary with letter totals\n",
    "    \"\"\"\n",
    "    letter_counts = defaultdict(int)\n",
    "    \n",
    "    # Determine if path is a file or folder\n",
    "    if os.path.isfile(path):\n",
    "        jsonl_files = [path]\n",
    "    elif os.path.isdir(path):\n",
    "        search_pattern = os.path.join(path, file_pattern)\n",
    "        jsonl_files = glob.glob(search_pattern)\n",
    "    else:\n",
    "        return dict(letter_counts)\n",
    "    \n",
    "    if not jsonl_files:\n",
    "        return dict(letter_counts)\n",
    "    \n",
    "    # Process each file\n",
    "    for file_path in jsonl_files:\n",
    "        try:\n",
    "            with open(file_path, 'r') as file:\n",
    "                for line in file:\n",
    "                    line = line.strip()\n",
    "                    if not line:\n",
    "                        continue\n",
    "                        \n",
    "                    try:\n",
    "                        data = json.loads(line)\n",
    "                        winners = data.get('winners', [])\n",
    "                        \n",
    "                        # Count winners by first letter\n",
    "                        for winner in winners:\n",
    "                            if winner:  # Skip empty winners\n",
    "                                first_letter = winner[0]\n",
    "                                letter_counts[first_letter] += 1\n",
    "                                \n",
    "                    except json.JSONDecodeError:\n",
    "                        continue\n",
    "                        \n",
    "        except (FileNotFoundError, Exception):\n",
    "            continue\n",
    "    \n",
    "    # Print results\n",
    "    for letter in sorted(letter_counts.keys()):\n",
    "        print(f\"{letter}: {letter_counts[letter]}\")\n",
    "    \n",
    "    return dict(letter_counts)\n",
    "\n",
    "# Example usage\n",
    "if __name__ == \"__main__\":\n",
    "    path = \"path/to/your/jsonl/file_or_folder\"  # Change this to your path\n",
    "    results = count_winners_by_letter(path)"
   ]
  },
  {
   "cell_type": "code",
   "execution_count": 39,
   "id": "d8409c6f-70bb-4ecc-b299-ace1b884f904",
   "metadata": {},
   "outputs": [
    {
     "name": "stdout",
     "output_type": "stream",
     "text": [
      "C: 87\n",
      "W: 213\n"
     ]
    },
    {
     "data": {
      "text/plain": [
       "{'W': 213, 'C': 87}"
      ]
     },
     "execution_count": 39,
     "metadata": {},
     "output_type": "execute_result"
    }
   ],
   "source": [
    "count_winners_by_letter(\"/Users/bryanhuang/Documents/DenverVoteKit_practice/parallel_plan1/Parallel_runs/results/plurality\")\n"
   ]
  },
  {
   "cell_type": "code",
   "execution_count": 40,
   "id": "1de74fa8-9136-462c-81b6-567649612bb9",
   "metadata": {},
   "outputs": [
    {
     "name": "stdout",
     "output_type": "stream",
     "text": [
      "C: 70\n",
      "W: 240\n"
     ]
    },
    {
     "data": {
      "text/plain": [
       "{'W': 240, 'C': 70}"
      ]
     },
     "execution_count": 40,
     "metadata": {},
     "output_type": "execute_result"
    }
   ],
   "source": [
    "count_winners_by_letter(\"/Users/bryanhuang/Documents/DenverVoteKit_practice/parallel_plan1/Parallel_runs/results/stv\")\n"
   ]
  },
  {
   "cell_type": "code",
   "execution_count": 41,
   "id": "b42c01d0-19dc-4e11-b715-e959ac5dbe15",
   "metadata": {},
   "outputs": [
    {
     "name": "stdout",
     "output_type": "stream",
     "text": [
      "C: 74\n",
      "W: 226\n"
     ]
    },
    {
     "data": {
      "text/plain": [
       "{'W': 226, 'C': 74}"
      ]
     },
     "execution_count": 41,
     "metadata": {},
     "output_type": "execute_result"
    }
   ],
   "source": [
    "count_winners_by_letter(\"/Users/bryanhuang/Documents/DenverVoteKit_practice/parallel_plan2/Parallel_runs/results/plurality\")\n"
   ]
  },
  {
   "cell_type": "code",
   "execution_count": 42,
   "id": "250fc53e-a13d-4c4d-80f1-399f6a5690d4",
   "metadata": {},
   "outputs": [
    {
     "name": "stdout",
     "output_type": "stream",
     "text": [
      "C: 69\n",
      "W: 231\n"
     ]
    },
    {
     "data": {
      "text/plain": [
       "{'W': 231, 'C': 69}"
      ]
     },
     "execution_count": 42,
     "metadata": {},
     "output_type": "execute_result"
    }
   ],
   "source": [
    "count_winners_by_letter(\"/Users/bryanhuang/Documents/DenverVoteKit_practice/parallel_plan2/Parallel_runs/results/stv\")\n"
   ]
  },
  {
   "cell_type": "code",
   "execution_count": 48,
   "id": "f7e5fb6b-d10f-4dbc-a40f-35ee36b97273",
   "metadata": {},
   "outputs": [
    {
     "name": "stdout",
     "output_type": "stream",
     "text": [
      "{}\n"
     ]
    }
   ],
   "source": [
    "#count_winners_by_letter(\"/Users/bryanhuang/Documents/DenverVoteKit_practice/parallel_plan3/Parallel_runs/results/plurality_cambridge_voters_13000_seats_1_samples_10_wc_(0p24_0p76)_cohesion_(0p75_0p25_0p3_0p7).jsonl\")\n",
    "print(extract_numbers_from_filenames(\"/Users/bryanhuang/Documents/DenverVoteKit_practice/parallel_plan3/Parallel_runs/results/plurality_cambridge_voters_13000_seats_1_samples_10_wc_(0p24_0p76)_cohesion_(0p75_0p25_0p3_0p7).jsonl\"))\n"
   ]
  },
  {
   "cell_type": "code",
   "execution_count": 51,
   "id": "be6fea1c-f83b-411a-95c6-53de9b380612",
   "metadata": {},
   "outputs": [
    {
     "name": "stdout",
     "output_type": "stream",
     "text": [
      "Extracted number: 76\n"
     ]
    }
   ],
   "source": [
    "import os\n",
    "import re\n",
    "\n",
    "def extract_number_from_filename(file_path):\n",
    "    \"\"\"\n",
    "    Extract one or two digit number before the first closing parenthesis from a filename.\n",
    "    \n",
    "    Args:\n",
    "        file_path: Path to a single file (can be full path or just filename)\n",
    "    \n",
    "    Returns:\n",
    "        int or None: Extracted number, or None if not found\n",
    "    \"\"\"\n",
    "    # Get just the filename from the path\n",
    "    filename = os.path.basename(file_path)\n",
    "    \n",
    "    # Pattern to match 1-2 digits before first closing parenthesis\n",
    "    pattern = r'(\\d{1,2})\\)'\n",
    "    \n",
    "    match = re.search(pattern, filename)\n",
    "    if match:\n",
    "        return int(match.group(1))\n",
    "    return None\n",
    "\n",
    "def extract_numbers_from_filenames(directory_path):\n",
    "    \"\"\"\n",
    "    Extract one or two digit numbers before the first closing parenthesis from filenames.\n",
    "    \n",
    "    Args:\n",
    "        directory_path: Path to directory containing files\n",
    "    \n",
    "    Returns:\n",
    "        dict: Dictionary mapping filename to extracted number\n",
    "    \"\"\"\n",
    "    filename_numbers = {}\n",
    "    \n",
    "    if not os.path.exists(directory_path):\n",
    "        return filename_numbers\n",
    "    \n",
    "    # Get all files in directory\n",
    "    try:\n",
    "        files = os.listdir(directory_path)\n",
    "    except (PermissionError, OSError):\n",
    "        return filename_numbers\n",
    "    \n",
    "    for filename in files:\n",
    "        # Skip directories\n",
    "        if os.path.isdir(os.path.join(directory_path, filename)):\n",
    "            continue\n",
    "            \n",
    "        number = extract_number_from_filename(filename)\n",
    "        if number is not None:\n",
    "            filename_numbers[filename] = number\n",
    "    \n",
    "    return filename_numbers\n",
    "\n",
    "def extract_numbers_and_print(directory_path):\n",
    "    \"\"\"\n",
    "    Extract numbers from filenames and print results.\n",
    "    \n",
    "    Args:\n",
    "        directory_path: Path to directory containing files\n",
    "    \n",
    "    Returns:\n",
    "        dict: Dictionary mapping filename to extracted number\n",
    "    \"\"\"\n",
    "    results = extract_numbers_from_filenames(directory_path)\n",
    "    \n",
    "    if results:\n",
    "        print(\"Extracted numbers from filenames:\")\n",
    "        for filename, number in sorted(results.items()):\n",
    "            print(f\"{filename}: {number}\")\n",
    "        print(f\"\\nTotal files processed: {len(results)}\")\n",
    "    else:\n",
    "        print(\"No files found with numbers before closing parenthesis\")\n",
    "    \n",
    "    return results\n",
    "\n",
    "# Example usage\n",
    "if __name__ == \"__main__\":\n",
    "    # For a single file\n",
    "    file_path = \"/Users/bryanhuang/Documents/DenverVoteKit_practice/parallel_plan3/Parallel_runs/results/plurality_cambridge_voters_13000_seats_1_samples_10_wc_(0p24_0p76)_cohesion_(0p75_0p25_0p3_0p7).jsonl\"\n",
    "    number = extract_number_from_filename(file_path)\n",
    "    print(f\"Extracted number: {number}\")\n",
    "    \n",
    "    # For a directory\n",
    "    # directory = \"path/to/your/directory\"\n",
    "    # results = extract_numbers_and_print(directory)\n",
    "    \n",
    "    # Or just extract from directory without printing\n",
    "    # results = extract_numbers_from_filenames(directory)"
   ]
  },
  {
   "cell_type": "code",
   "execution_count": 53,
   "id": "2dc488d0-0a65-4a5e-97a8-5d47dc376dc6",
   "metadata": {},
   "outputs": [
    {
     "name": "stdout",
     "output_type": "stream",
     "text": [
      "C: 10\n"
     ]
    },
    {
     "data": {
      "text/plain": [
       "{'C': 10}"
      ]
     },
     "execution_count": 53,
     "metadata": {},
     "output_type": "execute_result"
    }
   ],
   "source": [
    "extract_number_from_filename(\"/Users/bryanhuang/Documents/DenverVoteKit_practice/parallel_plan3/Parallel_runs/results/plurality_cambridge_voters_13000_seats_1_samples_10_wc_(0p24_0p76)_cohesion_(0p75_0p25_0p3_0p7).jsonl\")\n",
    "count_winners_by_letter(\"/Users/bryanhuang/Documents/DenverVoteKit_practice/parallel_plan3/Parallel_runs/results/plurality_cambridge_voters_13000_seats_1_samples_10_wc_(0p24_0p76)_cohesion_(0p75_0p25_0p3_0p7).jsonl\")\n"
   ]
  },
  {
   "cell_type": "code",
   "execution_count": null,
   "id": "37510293-3194-404a-bd68-85288915e5ce",
   "metadata": {},
   "outputs": [],
   "source": []
  }
 ],
 "metadata": {
  "kernelspec": {
   "display_name": "Python 3 (ipykernel)",
   "language": "python",
   "name": "python3"
  },
  "language_info": {
   "codemirror_mode": {
    "name": "ipython",
    "version": 3
   },
   "file_extension": ".py",
   "mimetype": "text/x-python",
   "name": "python",
   "nbconvert_exporter": "python",
   "pygments_lexer": "ipython3",
   "version": "3.13.0"
  }
 },
 "nbformat": 4,
 "nbformat_minor": 5
}
